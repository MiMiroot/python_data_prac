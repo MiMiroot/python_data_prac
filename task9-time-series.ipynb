{
 "cells": [
  {
   "cell_type": "markdown",
   "metadata": {},
   "source": [
    "#### 1 Date and Time Data Types and Tools"
   ]
  },
  {
   "cell_type": "code",
   "execution_count": 24,
   "metadata": {},
   "outputs": [
    {
     "name": "stdout",
     "output_type": "stream",
     "text": [
      "2019-08-26 17:55:37.415404\n",
      "2019 8 26\n",
      "2017-09-25 14:05:52.072973\n",
      "delta is: 926 days, 15:45:00\n",
      "delta day is 926\n",
      "delta seconds is 56700\n",
      "2011-01-19 00:00:00\n",
      "2010-12-14 00:00:00\n"
     ]
    }
   ],
   "source": [
    "from datetime import datetime\n",
    "now = datetime.now()\n",
    "print(now)\n",
    "print(now.year, now.month, now.day)\n",
    "#已经import datetime，所以这里会让datetime.datetime往其空间下再找datetime\n",
    "#datetime.datetime(2017,9,25,14,5,52,72973),正确做法如下：\n",
    "print(datetime(2017,9,25,14,5,52,72973))\n",
    "#时间相减可以得到时间差\n",
    "delta = datetime(2011, 1, 7) - datetime(2008, 6, 24, 8, 15)\n",
    "print('delta is:', delta)\n",
    "print('delta day is', delta.days)\n",
    "print('delta seconds is', delta.seconds)\n",
    "\n",
    "from datetime import timedelta\n",
    "start = datetime(2011,1,7)\n",
    "print(start + timedelta(12))\n",
    "print(start - 2* timedelta(12))"
   ]
  },
  {
   "cell_type": "code",
   "execution_count": 45,
   "metadata": {},
   "outputs": [
    {
     "name": "stdout",
     "output_type": "stream",
     "text": [
      "################Converting Between String and Datetime###################\n",
      "2011-01-03 00:00:00\n",
      "2011-01-03 00:00:00\n",
      "1997-01-31 22:45:00\n",
      "2011-12-06 00:00:00\n"
     ]
    },
    {
     "data": {
      "text/plain": [
       "array([False, False,  True])"
      ]
     },
     "execution_count": 45,
     "metadata": {},
     "output_type": "execute_result"
    }
   ],
   "source": [
    "print('################Converting Between String and Datetime###################')\n",
    "#convert time to string\n",
    "stamp = datetime(2011,1,3)\n",
    "print(str(stamp))\n",
    "stamp.strftime('%Y-%m-%d')\n",
    "#convert string to time\n",
    "value = '2011-01-03'\n",
    "datetime.strptime(value, '%Y-%m-%d')\n",
    "datetime(2011,1,3,0,0)\n",
    "\n",
    "datestrs = ['7/6/2011', '8/6/2011']\n",
    "[datetime.strptime(x, '%d/%m/%Y')   for x in datestrs]\n",
    "\n",
    "#datetime.strptime用起来麻烦，因为要多次写时间格式。parser.parse更方便\n",
    "from dateutil.parser import parse\n",
    "print(parse('2011-01-03'))\n",
    "print(parse('Jan 31, 1997 10:45 PM'))\n",
    "print(parse('6/12/2011', dayfirst=True))\n",
    "#pandas的to_datetime可以解析多种不同时间表达方式\n",
    "import pandas as pd\n",
    "datestrs = ['2011-07-06 12:00:00', '2011-08-06 00:00:00']\n",
    "pd.to_datetime(datestrs)\n",
    "idx = pd.to_datetime(datestrs + [None])\n",
    "idx\n",
    "idx[2]\n",
    "pd.isnull(idx)"
   ]
  },
  {
   "cell_type": "markdown",
   "metadata": {},
   "source": [
    "#### 2 Time Series Basics"
   ]
  },
  {
   "cell_type": "code",
   "execution_count": 50,
   "metadata": {},
   "outputs": [
    {
     "name": "stdout",
     "output_type": "stream",
     "text": [
      "2011-01-02   -0.999702\n",
      "2011-01-05   -1.508282\n",
      "2011-01-07   -0.778309\n",
      "2011-01-08   -0.199945\n",
      "2011-01-10   -0.396074\n",
      "2011-01-12   -0.248407\n",
      "dtype: float64\n",
      "2011-01-02   -1.999405\n",
      "2011-01-05         NaN\n",
      "2011-01-07   -1.556619\n",
      "2011-01-08         NaN\n",
      "2011-01-10   -0.792147\n",
      "2011-01-12         NaN\n",
      "dtype: float64\n"
     ]
    }
   ],
   "source": [
    "from datetime import datetime\n",
    "import numpy as np\n",
    "dates = [datetime(2011, 1, 2), datetime(2011, 1, 5),\n",
    "          datetime(2011, 1, 7), datetime(2011, 1, 8),\n",
    "          datetime(2011, 1, 10), datetime(2011, 1, 12)]\n",
    "ts = pd.Series(np.random.randn(6), index=dates)\n",
    "print(ts)\n",
    "print(ts + ts[::2])"
   ]
  },
  {
   "cell_type": "code",
   "execution_count": 68,
   "metadata": {
    "scrolled": true
   },
   "outputs": [
    {
     "name": "stdout",
     "output_type": "stream",
     "text": [
      "#####Indexing, Selection, Subsetting#######\n",
      "2000-01-01   -0.395468\n",
      "2000-01-02    0.991696\n",
      "2000-01-03    0.424969\n",
      "2000-01-04   -0.386159\n",
      "2000-01-05    0.679208\n",
      "                ...   \n",
      "2002-09-22   -0.668190\n",
      "2002-09-23    0.736374\n",
      "2002-09-24   -0.559059\n",
      "2002-09-25    0.441365\n",
      "2002-09-26   -0.642772\n",
      "Freq: D, Length: 1000, dtype: float64 \n",
      "\n",
      "2001-01-01    0.040506\n",
      "2001-01-02   -1.237664\n",
      "2001-01-03    0.873504\n",
      "2001-01-04    2.140884\n",
      "2001-01-05    0.016363\n",
      "                ...   \n",
      "2001-12-27   -0.675332\n",
      "2001-12-28    0.939414\n",
      "2001-12-29   -0.766606\n",
      "2001-12-30    0.645424\n",
      "2001-12-31   -1.446700\n",
      "Freq: D, Length: 365, dtype: float64\n",
      "2001-05-01   -1.308444\n",
      "2001-05-02    0.046642\n",
      "2001-05-03    0.256341\n",
      "2001-05-04    0.774844\n",
      "2001-05-05    0.631058\n",
      "2001-05-06    0.979397\n",
      "2001-05-07   -0.279371\n",
      "2001-05-08   -0.711537\n",
      "2001-05-09   -0.347856\n",
      "2001-05-10    0.513051\n",
      "2001-05-11    1.263793\n",
      "2001-05-12    1.086430\n",
      "2001-05-13   -0.541134\n",
      "2001-05-14    0.422094\n",
      "2001-05-15    1.224292\n",
      "2001-05-16   -0.027212\n",
      "2001-05-17    0.574963\n",
      "2001-05-18    0.142261\n",
      "2001-05-19    0.808996\n",
      "2001-05-20    1.330510\n",
      "2001-05-21   -0.009394\n",
      "2001-05-22    0.324633\n",
      "2001-05-23   -0.583495\n",
      "2001-05-24   -0.669416\n",
      "2001-05-25    0.477603\n",
      "2001-05-26    0.221493\n",
      "2001-05-27   -1.343515\n",
      "2001-05-28    1.221579\n",
      "2001-05-29    0.811472\n",
      "2001-05-30    0.975716\n",
      "2001-05-31    1.078452\n",
      "Freq: D, dtype: float64 \n",
      "\n",
      "2001-01-07    1.467241\n",
      "2001-01-08    0.482617\n",
      "2001-01-09   -0.669084\n",
      "2001-01-10   -0.168762\n",
      "2001-01-11    1.870660\n",
      "                ...   \n",
      "2002-09-22   -0.668190\n",
      "2002-09-23    0.736374\n",
      "2002-09-24   -0.559059\n",
      "2002-09-25    0.441365\n",
      "2002-09-26   -0.642772\n",
      "Freq: D, Length: 628, dtype: float64\n",
      "2011-01-07   -0.778309\n",
      "2011-01-08   -0.199945\n",
      "2011-01-10   -0.396074\n",
      "dtype: float64 \n",
      "\n",
      "2011-01-02   -0.999702\n",
      "2011-01-05   -1.508282\n",
      "2011-01-07   -0.778309\n",
      "2011-01-08   -0.199945\n",
      "dtype: float64 \n",
      "\n",
      "            Colorado     Texas  New York      Ohio\n",
      "2001-05-02  1.217083  0.557111 -0.733536 -0.066000\n",
      "2001-05-09  1.216755 -0.669771 -2.117147 -0.176424\n",
      "2001-05-16 -0.115753  0.173272 -0.012709  0.683703\n",
      "2001-05-23 -1.401075  1.277957  1.455520  0.267498\n",
      "2001-05-30 -1.778347  0.417664 -0.487539 -0.058814\n"
     ]
    }
   ],
   "source": [
    "print('#####Indexing, Selection, Subsetting#######')\n",
    "stamp = ts.index[2]\n",
    "#输出特定时间的值，多种方法 string; datetime方法，timestamp，truncate\n",
    "ts[stamp]\n",
    "ts['1/10/2011']\n",
    "ts['20110110']\n",
    "\n",
    "#pd.date_range里的periods=int可以设定时间长度\n",
    "longer_ts = pd.Series(np.random.randn(1000), index=pd.date_range('1/1/2000',periods=1000))\n",
    "print(longer_ts, '\\n')\n",
    "#输入年份或者年份+月份可以选出特定的行\n",
    "print(longer_ts['2001'])\n",
    "print(longer_ts['2001-05'], '\\n')\n",
    "#用datetime也可以作为index输出特定的行，这里输出1月7号开始和之后的\n",
    "print(longer_ts[datetime(2001,1,7):])\n",
    "#用timestamps\n",
    "print(ts['1/6/2011':'1/11/2011'], '\\n')\n",
    "#truncate\n",
    "print(ts.truncate(after='1/9/2011'), '\\n')\n",
    "#上述方法对dataframe一样有效\n",
    "dates = pd.date_range('1/1/2000', periods=100, freq='W-WED')\n",
    "long_df = pd.DataFrame(np.random.randn(100,4), index=dates, columns=['Colorado', 'Texas','New York', 'Ohio'])\n",
    "print(long_df.loc['5-2001'])"
   ]
  },
  {
   "cell_type": "code",
   "execution_count": 74,
   "metadata": {},
   "outputs": [
    {
     "name": "stdout",
     "output_type": "stream",
     "text": [
      "#####Time Series with Duplicate Indices#######\n",
      "2000-01-01    0\n",
      "2000-01-02    1\n",
      "2000-01-02    2\n",
      "2000-01-02    3\n",
      "2000-01-03    4\n",
      "dtype: int64 \n",
      "\n",
      "False\n",
      "2000-01-01    0\n",
      "2000-01-02    2\n",
      "2000-01-03    4\n",
      "dtype: int64\n",
      "2000-01-01    1\n",
      "2000-01-02    3\n",
      "2000-01-03    1\n",
      "dtype: int64\n"
     ]
    }
   ],
   "source": [
    "print('#####Time Series with Duplicate Indices#######')\n",
    "dates = pd.DatetimeIndex(['1/1/2000', '1/2/2000', '1/2/2000',\n",
    "                           '1/2/2000', '1/3/2000'])\n",
    "dup_ts = pd.Series(np.arange(5), index=dates)\n",
    "print(dup_ts, '\\n')\n",
    "print(dup_ts.index.is_unique)\n",
    "#要对有重复timestamps的数据去重\n",
    "grouped = dup_ts.groupby(level=0)\n",
    "print(grouped.mean())\n",
    "print(grouped.count())"
   ]
  },
  {
   "cell_type": "markdown",
   "metadata": {},
   "source": [
    "#### 3 Date Ranges, Frequencies, and Shifting"
   ]
  },
  {
   "cell_type": "code",
   "execution_count": 80,
   "metadata": {},
   "outputs": [
    {
     "name": "stdout",
     "output_type": "stream",
     "text": [
      "2011-01-02   -0.999702\n",
      "2011-01-05   -1.508282\n",
      "2011-01-07   -0.778309\n",
      "2011-01-08   -0.199945\n",
      "2011-01-10   -0.396074\n",
      "2011-01-12   -0.248407\n",
      "dtype: float64\n",
      "DatetimeIndexResampler [freq=<Day>, axis=0, closed=left, label=left, convention=start, base=0]\n",
      "#####Generating Date Ranges#######\n",
      "DatetimeIndex(['2014-04-01', '2014-04-02', '2014-04-03', '2014-04-04',\n",
      "               '2014-04-05', '2014-04-06', '2014-04-07', '2014-04-08',\n",
      "               '2014-04-09', '2014-04-10', '2014-04-11', '2014-04-12',\n",
      "               '2014-04-13', '2014-04-14', '2014-04-15', '2014-04-16',\n",
      "               '2014-04-17', '2014-04-18', '2014-04-19', '2014-04-20'],\n",
      "              dtype='datetime64[ns]', freq='D') \n",
      "\n",
      "DatetimeIndex(['2012-05-13', '2012-05-14', '2012-05-15', '2012-05-16',\n",
      "               '2012-05-17', '2012-05-18', '2012-05-19', '2012-05-20',\n",
      "               '2012-05-21', '2012-05-22', '2012-05-23', '2012-05-24',\n",
      "               '2012-05-25', '2012-05-26', '2012-05-27', '2012-05-28',\n",
      "               '2012-05-29', '2012-05-30', '2012-05-31', '2012-06-01'],\n",
      "              dtype='datetime64[ns]', freq='D') \n",
      "\n",
      "DatetimeIndex(['2000-01-31', '2000-02-29', '2000-03-31', '2000-04-28',\n",
      "               '2000-05-31', '2000-06-30', '2000-07-31', '2000-08-31',\n",
      "               '2000-09-29', '2000-10-31', '2000-11-30'],\n",
      "              dtype='datetime64[ns]', freq='BM')\n",
      "DatetimeIndex(['2012-05-02', '2012-05-03', '2012-05-04', '2012-05-05',\n",
      "               '2012-05-06'],\n",
      "              dtype='datetime64[ns]', freq='D')\n"
     ]
    }
   ],
   "source": [
    "print(ts)\n",
    "resampler = ts.resample('D')\n",
    "print(resampler)\n",
    "\n",
    "\n",
    "print('#####Generating Date Ranges#######')\n",
    "index = pd.date_range('2012-04-01', '2012-06-01')\n",
    "print(pd.date_range(start='2014-04-01', periods=20), '\\n')\n",
    "print(pd.date_range(end='2012-06-01', periods=20), '\\n')\n",
    "#输出每月business day的最后一天,BM 表示business end of month\n",
    "print(pd.date_range('2000-01-01','2000-12-01', freq='BM'))\n",
    "#有的时候输出的时间不想要到小时，归一化到天\n",
    "print(pd.date_range('2012-05-02 12:56:31', periods=5, normalize=True))"
   ]
  },
  {
   "cell_type": "code",
   "execution_count": 83,
   "metadata": {},
   "outputs": [
    {
     "name": "stdout",
     "output_type": "stream",
     "text": [
      "#####Frequencies and Date Offsets#######\n",
      "DatetimeIndex(['2000-01-01 00:00:00', '2000-01-01 04:00:00',\n",
      "               '2000-01-01 08:00:00', '2000-01-01 12:00:00',\n",
      "               '2000-01-01 16:00:00', '2000-01-01 20:00:00',\n",
      "               '2000-01-02 00:00:00', '2000-01-02 04:00:00',\n",
      "               '2000-01-02 08:00:00', '2000-01-02 12:00:00',\n",
      "               '2000-01-02 16:00:00', '2000-01-02 20:00:00',\n",
      "               '2000-01-03 00:00:00', '2000-01-03 04:00:00',\n",
      "               '2000-01-03 08:00:00', '2000-01-03 12:00:00',\n",
      "               '2000-01-03 16:00:00', '2000-01-03 20:00:00'],\n",
      "              dtype='datetime64[ns]', freq='4H') \n",
      "\n",
      "DatetimeIndex(['2000-01-01 00:00:00', '2000-01-01 01:30:00',\n",
      "               '2000-01-01 03:00:00', '2000-01-01 04:30:00',\n",
      "               '2000-01-01 06:00:00', '2000-01-01 07:30:00',\n",
      "               '2000-01-01 09:00:00', '2000-01-01 10:30:00',\n",
      "               '2000-01-01 12:00:00', '2000-01-01 13:30:00'],\n",
      "              dtype='datetime64[ns]', freq='90T') \n",
      "\n",
      "#####week of month dates#######\n",
      "DatetimeIndex(['2012-01-20', '2012-02-17', '2012-03-16', '2012-04-20',\n",
      "               '2012-05-18', '2012-06-15', '2012-07-20', '2012-08-17'],\n",
      "              dtype='datetime64[ns]', freq='WOM-3FRI') \n",
      "\n"
     ]
    }
   ],
   "source": [
    "print('#####Frequencies and Date Offsets#######')\n",
    "from pandas.tseries.offsets import Hour, Minute\n",
    "print(pd.date_range('2000-01-01', '2000-01-03 23:59', freq='4h'), '\\n')\n",
    "print(pd.date_range('2000-01-01', periods=10, freq='1h30min'), '\\n')\n",
    "print('#####week of month dates#######')\n",
    "#week of month -> WOM，可以获得每个月特定的时间\n",
    "rng = pd.date_range('2012-01-01','2012-09-01', freq='WOM-3FRI')\n",
    "print(rng, '\\n')"
   ]
  },
  {
   "cell_type": "code",
   "execution_count": 92,
   "metadata": {},
   "outputs": [
    {
     "name": "stdout",
     "output_type": "stream",
     "text": [
      "#####Shifting (Leading and Lagging) Data#######\n",
      "2000-01-31         NaN\n",
      "2000-02-29         NaN\n",
      "2000-03-31   -0.514911\n",
      "2000-04-30   -0.041589\n",
      "Freq: M, dtype: float64 \n",
      "\n",
      "2000-01-31    1.161863\n",
      "2000-02-29    0.913793\n",
      "2000-03-31         NaN\n",
      "2000-04-30         NaN\n",
      "Freq: M, dtype: float64 \n",
      "\n",
      "2000-01-31   -0.514911\n",
      "2000-02-29   -0.041589\n",
      "2000-03-31    1.161863\n",
      "2000-04-30    0.913793\n",
      "Freq: M, dtype: float64 \n",
      "\n",
      "2000-01-31         NaN\n",
      "2000-02-29   -0.514911\n",
      "2000-03-31   -0.041589\n",
      "2000-04-30    1.161863\n",
      "Freq: M, dtype: float64 \n",
      "\n",
      "2000-01-31          NaN\n",
      "2000-02-29    -0.919231\n",
      "2000-03-31   -28.936970\n",
      "2000-04-30    -0.213511\n",
      "Freq: M, dtype: float64\n",
      "2000-03-31   -0.514911\n",
      "2000-04-30   -0.041589\n",
      "2000-05-31    1.161863\n",
      "2000-06-30    0.913793\n",
      "Freq: M, dtype: float64 \n",
      "\n",
      "2000-01-31 01:30:00   -0.514911\n",
      "2000-02-29 01:30:00   -0.041589\n",
      "2000-03-31 01:30:00    1.161863\n",
      "2000-04-30 01:30:00    0.913793\n",
      "Freq: M, dtype: float64\n"
     ]
    }
   ],
   "source": [
    "print('#####Shifting (Leading and Lagging) Data#######')\n",
    "#shift表示向前或者向后移动时间\n",
    "ts = pd.Series(np.random.randn(4),\n",
    "                index=pd.date_range('1/1/2000', periods=4, freq='M'))\n",
    "print(ts.shift(2), '\\n')\n",
    "print(ts.shift(-2),'\\n')\n",
    "print(ts, '\\n')\n",
    "print(ts.shift(1), '\\n')\n",
    "print(ts / ts.shift(1) -1)\n",
    "#shift设定freq，跳过2个月，没有NA\n",
    "print(ts.shift(2, freq='M'), '\\n')\n",
    "#这里90T表示90分钟\n",
    "print(ts.shift(1, freq='90T'))"
   ]
  },
  {
   "cell_type": "code",
   "execution_count": 95,
   "metadata": {},
   "outputs": [
    {
     "name": "stdout",
     "output_type": "stream",
     "text": [
      "#####Shifting dates with offsets#######\n"
     ]
    },
    {
     "data": {
      "text/plain": [
       "Timestamp('2011-12-31 00:00:00')"
      ]
     },
     "execution_count": 95,
     "metadata": {},
     "output_type": "execute_result"
    }
   ],
   "source": [
    "print('#####Shifting dates with offsets#######')\n",
    "from pandas.tseries.offsets import Day, MonthEnd\n",
    "now = datetime(2011, 11, 17)\n",
    "now + 3 * Day()\n",
    "now + MonthEnd()\n",
    "now + MonthEnd(2)"
   ]
  },
  {
   "cell_type": "markdown",
   "metadata": {},
   "source": [
    "#### 4 Time Zone Handling"
   ]
  },
  {
   "cell_type": "code",
   "execution_count": 97,
   "metadata": {},
   "outputs": [
    {
     "name": "stdout",
     "output_type": "stream",
     "text": [
      "##########Time Zone Localization and Conversion###############\n",
      "None\n"
     ]
    },
    {
     "data": {
      "text/plain": [
       "2012-03-09 15:30:00+01:00   -1.505798\n",
       "2012-03-10 15:30:00+01:00   -0.875741\n",
       "2012-03-11 14:30:00+01:00    1.854186\n",
       "2012-03-12 14:30:00+01:00   -0.224037\n",
       "2012-03-13 14:30:00+01:00    1.915419\n",
       "2012-03-14 14:30:00+01:00    0.433165\n",
       "Freq: D, dtype: float64"
      ]
     },
     "execution_count": 97,
     "metadata": {},
     "output_type": "execute_result"
    }
   ],
   "source": [
    "print('##########Time Zone Localization and Conversion###############')\n",
    "rng = pd.date_range('3/9/2012 9:30', periods=6, freq='D')\n",
    "ts = pd.Series(np.random.randn(len(rng)), index=rng)\n",
    "print(ts.index.tz)\n",
    "pd.date_range('3/9/2012 9:30', periods=10, freq='D', tz='UTC')\n",
    "ts_utc = ts.tz_localize('UTC')\n",
    "ts_utc.index\n",
    "ts_utc.tz_convert('America/New_York')\n",
    "ts_eastern = ts.tz_localize('America/New_York')\n",
    "ts_eastern.tz_convert('Europe/Berlin')"
   ]
  },
  {
   "cell_type": "code",
   "execution_count": null,
   "metadata": {},
   "outputs": [],
   "source": [
    "print('##########Operations with Time Zone−Aware Timestamp Objects###############')\n",
    "stamp = pd.Timestamp('2011-03-12 04:00')\n",
    "stamp_utc = stamp.tz_localize('utc')\n",
    "stamp_utc.tz_convert('America/New_York')\n",
    "stamp_moscow = pd.Timestamp('2011-03-12 04:00', tz='Europe/Moscow')\n",
    "stamp_moscow\n",
    "stamp_utc.value\n",
    "stamp_utc.tz_convert('America/New_York').value\n",
    "\n",
    "from pandas.tseries.offsets import Hour\n",
    "stamp = pd.Timestamp('2012-03-12 01:30', tz='US/Eastern')\n",
    "stamp + Hour()\n",
    "stamp = pd.Timestamp('2012-11-04 00:30', tz='US/Eastern')\n",
    "stamp\n",
    "stamp + 2 * Hour()\n",
    "\n",
    "\n",
    "\n"
   ]
  },
  {
   "cell_type": "code",
   "execution_count": 98,
   "metadata": {},
   "outputs": [
    {
     "name": "stdout",
     "output_type": "stream",
     "text": [
      "##########Operations Between Different Time Zones###############\n"
     ]
    },
    {
     "data": {
      "text/plain": [
       "DatetimeIndex(['2012-03-07 09:30:00+00:00', '2012-03-08 09:30:00+00:00',\n",
       "               '2012-03-09 09:30:00+00:00', '2012-03-12 09:30:00+00:00',\n",
       "               '2012-03-13 09:30:00+00:00', '2012-03-14 09:30:00+00:00',\n",
       "               '2012-03-15 09:30:00+00:00'],\n",
       "              dtype='datetime64[ns, UTC]', freq='B')"
      ]
     },
     "execution_count": 98,
     "metadata": {},
     "output_type": "execute_result"
    }
   ],
   "source": [
    "print('##########Operations Between Different Time Zones###############')\n",
    "rng = pd.date_range('3/7/2012 9:30', periods=10, freq='B')\n",
    "ts = pd.Series(np.random.randn(len(rng)), index=rng)\n",
    "ts1 = ts[:7].tz_localize('Europe/London')\n",
    "ts2 = ts1[2:].tz_convert('Europe/Moscow')\n",
    "result = ts1 + ts2\n",
    "result.index"
   ]
  },
  {
   "cell_type": "markdown",
   "metadata": {},
   "source": [
    "#### 5 Periods and Period Arithmetic"
   ]
  },
  {
   "cell_type": "code",
   "execution_count": 99,
   "metadata": {},
   "outputs": [
    {
     "name": "stdout",
     "output_type": "stream",
     "text": [
      "##########Period Frequency Conversion###############\n"
     ]
    },
    {
     "data": {
      "text/plain": [
       "2006-12-29    0.510984\n",
       "2007-12-31    0.785971\n",
       "2008-12-31    0.713764\n",
       "2009-12-31    1.134825\n",
       "Freq: B, dtype: float64"
      ]
     },
     "execution_count": 99,
     "metadata": {},
     "output_type": "execute_result"
    }
   ],
   "source": [
    "print('##########Period Frequency Conversion###############')\n",
    "p = pd.Period('2007', freq='A-DEC')\n",
    "p.asfreq('M', how='start')\n",
    "p.asfreq('M', how='end')\n",
    "p = pd.Period('2007', freq='A-JUN')\n",
    "p\n",
    "p.asfreq('M', 'start')\n",
    "p.asfreq('M', 'end')\n",
    "p = pd.Period('Aug-2007', 'M')\n",
    "p.asfreq('A-JUN')\n",
    "rng = pd.period_range('2006', '2009', freq='A-DEC')\n",
    "ts = pd.Series(np.random.randn(len(rng)), index=rng)\n",
    "ts.asfreq('M', how='start')\n",
    "ts.asfreq('B', how='end')"
   ]
  },
  {
   "cell_type": "code",
   "execution_count": 100,
   "metadata": {},
   "outputs": [
    {
     "name": "stdout",
     "output_type": "stream",
     "text": [
      "##########Quarterly Period Frequencies###############\n"
     ]
    },
    {
     "data": {
      "text/plain": [
       "Timestamp('2012-01-30 16:00:00')"
      ]
     },
     "execution_count": 100,
     "metadata": {},
     "output_type": "execute_result"
    }
   ],
   "source": [
    "print('##########Quarterly Period Frequencies###############')\n",
    "p = pd.Period('2012Q4', freq='Q-JAN')\n",
    "p\n",
    "p.asfreq('D', 'start')\n",
    "p.asfreq('D', 'end')\n",
    "p4pm = (p.asfreq('B', 'e') - 1).asfreq('T', 's') + 16 * 60\n",
    "p4pm\n",
    "p4pm.to_timestamp()\n"
   ]
  },
  {
   "cell_type": "code",
   "execution_count": 102,
   "metadata": {},
   "outputs": [
    {
     "name": "stdout",
     "output_type": "stream",
     "text": [
      "##########Converting Timestamps to Periods (and Back)###############\n"
     ]
    },
    {
     "data": {
      "text/plain": [
       "2000-01   -0.997017\n",
       "2000-02   -0.216419\n",
       "2000-03    1.515574\n",
       "Freq: M, dtype: float64"
      ]
     },
     "execution_count": 102,
     "metadata": {},
     "output_type": "execute_result"
    }
   ],
   "source": [
    "print('##########Converting Timestamps to Periods (and Back)###############')\n",
    "rng = pd.date_range('2000-01-01', periods=3, freq='M')\n",
    "ts = pd.Series(np.random.randn(3), index=rng)\n",
    "pts = ts.to_period()\n",
    "pts"
   ]
  },
  {
   "cell_type": "code",
   "execution_count": 103,
   "metadata": {},
   "outputs": [
    {
     "name": "stdout",
     "output_type": "stream",
     "text": [
      "##########Creating a PeriodIndex from Arrays###############\n"
     ]
    },
    {
     "data": {
      "text/plain": [
       "0      1959.0\n",
       "1      1959.0\n",
       "2      1959.0\n",
       "3      1959.0\n",
       "4      1960.0\n",
       "        ...  \n",
       "198    2008.0\n",
       "199    2008.0\n",
       "200    2009.0\n",
       "201    2009.0\n",
       "202    2009.0\n",
       "Name: year, Length: 203, dtype: float64"
      ]
     },
     "execution_count": 103,
     "metadata": {},
     "output_type": "execute_result"
    }
   ],
   "source": [
    "print('##########Creating a PeriodIndex from Arrays###############')\n",
    "data = pd.read_csv('../examples/macrodata.csv')\n",
    "data.head(5)\n",
    "data.year\n",
    "data.quarter\n"
   ]
  }
 ],
 "metadata": {
  "kernelspec": {
   "display_name": "Python 3",
   "language": "python",
   "name": "python3"
  },
  "language_info": {
   "codemirror_mode": {
    "name": "ipython",
    "version": 3
   },
   "file_extension": ".py",
   "mimetype": "text/x-python",
   "name": "python",
   "nbconvert_exporter": "python",
   "pygments_lexer": "ipython3",
   "version": "3.7.2"
  }
 },
 "nbformat": 4,
 "nbformat_minor": 2
}
