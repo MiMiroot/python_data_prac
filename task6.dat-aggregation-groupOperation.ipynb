{
 "cells": [
  {
   "cell_type": "markdown",
   "metadata": {},
   "source": [
    "#### GroupBy Mechanics"
   ]
  },
  {
   "cell_type": "code",
   "execution_count": 13,
   "metadata": {},
   "outputs": [
    {
     "name": "stdout",
     "output_type": "stream",
     "text": [
      "  key1 key2     data1     data2\n",
      "0    a  one -0.968666 -0.015209\n",
      "1    a  two  0.787794 -0.762831\n",
      "2    b  one -0.581772 -1.028280\n",
      "3    b  two  1.905340  0.126133\n",
      "4    a  one  0.374959  0.768326 \n",
      "\n",
      "<pandas.core.groupby.generic.SeriesGroupBy object at 0x11d7af8d0> \n",
      "\n",
      "key1\n",
      "a    0.064696\n",
      "b    0.661784\n",
      "Name: data1, dtype: float64 \n",
      "\n",
      "key1  key2\n",
      "a     one    -0.296853\n",
      "      two     0.787794\n",
      "b     one    -0.581772\n",
      "      two     1.905340\n",
      "Name: data1, dtype: float64 \n",
      "\n",
      "key2       one       two\n",
      "key1                    \n",
      "a    -0.296853  0.787794\n",
      "b    -0.581772  1.905340 \n",
      "\n",
      "California  2005    0.787794\n",
      "            2006   -0.581772\n",
      "Ohio        2005    0.468337\n",
      "            2006    0.374959\n",
      "Name: data1, dtype: float64 \n",
      "\n",
      "         data1     data2\n",
      "key1                    \n",
      "a     0.064696 -0.003238\n",
      "b     0.661784 -0.451074 \n",
      "\n",
      "              data1     data2\n",
      "key1 key2                    \n",
      "a    one  -0.296853  0.376558\n",
      "     two   0.787794 -0.762831\n",
      "b    one  -0.581772 -1.028280\n",
      "     two   1.905340  0.126133 \n",
      "\n",
      "key1  key2\n",
      "a     one     2\n",
      "      two     1\n",
      "b     one     1\n",
      "      two     1\n",
      "dtype: int64 \n",
      "\n"
     ]
    }
   ],
   "source": [
    "import pandas as pd\n",
    "import numpy as np\n",
    "df = pd.DataFrame({'key1' : ['a', 'a', 'b', 'b', 'a'],\n",
    "                   'key2' : ['one', 'two', 'one', 'two', 'one'],\n",
    "                   'data1' : np.random.randn(5),\n",
    "                   'data2' : np.random.randn(5)})\n",
    "print(df, '\\n')\n",
    "grouped = df['data1'].groupby(df['key1'])\n",
    "print(grouped, '\\n')\n",
    "print(grouped.mean(),'\\n')\n",
    "means = df['data1'].groupby([df['key1'],df['key2']]).mean()\n",
    "print(means, '\\n')\n",
    "print(means.unstack(), '\\n')\n",
    "\n",
    "#group key可以是任何合适长度的arrays，在这里是series\n",
    "states = np.array(['Ohio', 'California', 'California', 'Ohio', 'Ohio'])\n",
    "years = np.array([2005, 2005, 2006, 2005, 2006])\n",
    "print(df['data1'].groupby([states, years]).mean(), '\\n')\n",
    "#对于dataframe可以把列名作为group keys   为什么key2没有自动加入？也没有被识别为数据\n",
    "print(df.groupby('key1').mean(), '\\n')\n",
    "print(df.groupby(['key1','key2']).mean(), '\\n')\n",
    "#size()函数能得到每个group里的个数\n",
    "print(df.groupby(['key1','key2']).size(), '\\n')"
   ]
  },
  {
   "cell_type": "code",
   "execution_count": 18,
   "metadata": {},
   "outputs": [
    {
     "name": "stdout",
     "output_type": "stream",
     "text": [
      "####################Iterating Over Groups#########################\n",
      "a\n",
      "  key1 key2     data1     data2\n",
      "0    a  one -0.968666 -0.015209\n",
      "1    a  two  0.787794 -0.762831\n",
      "4    a  one  0.374959  0.768326\n",
      "b\n",
      "  key1 key2     data1     data2\n",
      "2    b  one -0.581772 -1.028280\n",
      "3    b  two  1.905340  0.126133\n",
      "\n",
      "\n",
      "\n",
      "('a', 'one')\n",
      "  key1 key2     data1     data2\n",
      "0    a  one -0.968666 -0.015209\n",
      "4    a  one  0.374959  0.768326\n",
      "('a', 'two')\n",
      "  key1 key2     data1     data2\n",
      "1    a  two  0.787794 -0.762831\n",
      "('b', 'one')\n",
      "  key1 key2     data1    data2\n",
      "2    b  one -0.581772 -1.02828\n",
      "('b', 'two')\n",
      "  key1 key2    data1     data2\n",
      "3    b  two  1.90534  0.126133\n",
      "\n",
      "\n",
      "\n",
      "  key1 key2     data1     data2\n",
      "2    b  one -0.581772 -1.028280\n",
      "3    b  two  1.905340  0.126133 \n",
      "\n",
      "key1      object\n",
      "key2      object\n",
      "data1    float64\n",
      "data2    float64\n",
      "dtype: object\n"
     ]
    }
   ],
   "source": [
    "print('####################Iterating Over Groups#########################')\n",
    "for name, group in df.groupby('key1'):\n",
    "    print(name)\n",
    "    print(group)\n",
    "print('\\n\\n')\n",
    "for (k1,k2), group in df.groupby(['key1','key2']):\n",
    "    print((k1,k2))\n",
    "    print(group)\n",
    "print('\\n\\n')\n",
    "#用字典方式把group后的每一份分到一个key 和value里\n",
    "pieces = dict(list(df.groupby('key1')))\n",
    "print(pieces['b'] ,'\\n')\n",
    "print(df.dtypes)\n",
    "#default里axis=0，可以设定axis=1对列操作\n",
    "grouped = df.groupby(df.dtypes, axis=1)\n",
    "for dtype, group in grouped:\n",
    "    print(dtype)\n",
    "    print(group)"
   ]
  },
  {
   "cell_type": "code",
   "execution_count": 20,
   "metadata": {},
   "outputs": [
    {
     "name": "stdout",
     "output_type": "stream",
     "text": [
      "####################Selecting a Column or Subset of Columns#########################\n"
     ]
    },
    {
     "data": {
      "text/plain": [
       "<pandas.core.groupby.generic.SeriesGroupBy object at 0x11d7b25c0>"
      ]
     },
     "execution_count": 20,
     "metadata": {},
     "output_type": "execute_result"
    }
   ],
   "source": [
    "print('####################Selecting a Column or Subset of Columns#########################')\n",
    "df.groupby('key1')['data1']"
   ]
  },
  {
   "cell_type": "code",
   "execution_count": null,
   "metadata": {},
   "outputs": [],
   "source": []
  },
  {
   "cell_type": "markdown",
   "metadata": {},
   "source": [
    "#### 2 Data Aggregation"
   ]
  },
  {
   "cell_type": "code",
   "execution_count": 26,
   "metadata": {},
   "outputs": [
    {
     "name": "stdout",
     "output_type": "stream",
     "text": [
      "  key1 key2     data1     data2\n",
      "0    a  one -0.968666 -0.015209\n",
      "1    a  two  0.787794 -0.762831\n",
      "2    b  one -0.581772 -1.028280\n",
      "3    b  two  1.905340  0.126133\n",
      "4    a  one  0.374959  0.768326 \n",
      "\n",
      "<pandas.core.groupby.generic.DataFrameGroupBy object at 0x11d7af0b8>\n",
      "key1\n",
      "a    0.705227\n",
      "b    1.656629\n",
      "Name: data1, dtype: float64 \n",
      "\n",
      "         data1     data2\n",
      "key1                    \n",
      "a     1.756460  1.531157\n",
      "b     2.487112  1.154413 \n",
      "\n",
      "     data1                                                              \\\n",
      "     count      mean       std       min       25%       50%       75%   \n",
      "key1                                                                     \n",
      "a      3.0  0.064696  0.918415 -0.968666 -0.296853  0.374959  0.581377   \n",
      "b      2.0  0.661784  1.758654 -0.581772  0.040006  0.661784  1.283562   \n",
      "\n",
      "               data2                                                    \\\n",
      "           max count      mean       std       min       25%       50%   \n",
      "key1                                                                     \n",
      "a     0.787794   3.0 -0.003238  0.765649 -0.762831 -0.389020 -0.015209   \n",
      "b     1.905340   2.0 -0.451074  0.816293 -1.028280 -0.739677 -0.451074   \n",
      "\n",
      "                          \n",
      "           75%       max  \n",
      "key1                      \n",
      "a     0.376558  0.768326  \n",
      "b    -0.162470  0.126133  \n"
     ]
    }
   ],
   "source": [
    "print(df, '\\n')\n",
    "grouped = df.groupby('key1')\n",
    "print(grouped)\n",
    "print(grouped['data1'].quantile(0.9), '\\n')\n",
    "#使用自己的aggregation公式，可以aggregate一个array去aggregate或者agg\n",
    "def peak_to_peak(arr):\n",
    "    return arr.max() - arr.min()\n",
    "print(grouped.agg(peak_to_peak), '\\n')\n",
    "print(grouped.describe())"
   ]
  },
  {
   "cell_type": "code",
   "execution_count": 28,
   "metadata": {},
   "outputs": [
    {
     "name": "stdout",
     "output_type": "stream",
     "text": [
      "####################Column-Wise and Multiple Function Application#########################\n",
      "   total_bill   tip smoker  day    time  size   tip_pct\n",
      "0       16.99  1.01     No  Sun  Dinner     2  0.059447\n",
      "1       10.34  1.66     No  Sun  Dinner     3  0.160542\n",
      "2       21.01  3.50     No  Sun  Dinner     3  0.166587\n",
      "3       23.68  3.31     No  Sun  Dinner     2  0.139780\n",
      "4       24.59  3.61     No  Sun  Dinner     4  0.146808\n",
      "5       25.29  4.71     No  Sun  Dinner     4  0.186240 \n",
      "\n",
      "day   smoker\n",
      "Fri   No        0.151650\n",
      "      Yes       0.174783\n",
      "Sat   No        0.158048\n",
      "      Yes       0.147906\n",
      "Sun   No        0.160113\n",
      "      Yes       0.187250\n",
      "Thur  No        0.160298\n",
      "      Yes       0.163863\n",
      "Name: tip_pct, dtype: float64 \n",
      "\n"
     ]
    }
   ],
   "source": [
    "print('####################Column-Wise and Multiple Function Application#########################')\n",
    "tips = pd.read_csv('../examples/tips.csv')\n",
    "tips['tip_pct'] = tips['tip'] / tips['total_bill']\n",
    "print(tips[:6], '\\n')\n",
    "grouped = tips.groupby(['day', 'smoker'])\n",
    "grouped_pct = grouped['tip_pct']\n",
    "print(grouped_pct.agg('mean'),'\\n')"
   ]
  },
  {
   "cell_type": "code",
   "execution_count": null,
   "metadata": {},
   "outputs": [],
   "source": []
  },
  {
   "cell_type": "code",
   "execution_count": null,
   "metadata": {},
   "outputs": [],
   "source": []
  },
  {
   "cell_type": "markdown",
   "metadata": {},
   "source": [
    "#### 3 Apply: General split-apply-combine"
   ]
  },
  {
   "cell_type": "code",
   "execution_count": 32,
   "metadata": {},
   "outputs": [
    {
     "name": "stdout",
     "output_type": "stream",
     "text": [
      "       smoker\n",
      "count  No        151.000000\n",
      "       Yes        93.000000\n",
      "mean   No          0.159328\n",
      "       Yes         0.163196\n",
      "std    No          0.039910\n",
      "       Yes         0.085119\n",
      "min    No          0.056797\n",
      "       Yes         0.035638\n",
      "25%    No          0.136906\n",
      "       Yes         0.106771\n",
      "50%    No          0.155625\n",
      "       Yes         0.153846\n",
      "75%    No          0.185014\n",
      "       Yes         0.195059\n",
      "max    No          0.291990\n",
      "       Yes         0.710345\n",
      "dtype: float64 \n",
      "\n",
      "     total_bill   tip smoker   day    time  size   tip_pct\n",
      "88        24.71  5.85     No  Thur   Lunch     2  0.236746\n",
      "185       20.69  5.00     No   Sun  Dinner     5  0.241663\n",
      "51        10.29  2.60     No   Sun  Dinner     2  0.252672\n",
      "149        7.51  2.00     No  Thur   Lunch     2  0.266312\n",
      "232       11.61  3.39     No   Sat  Dinner     2  0.291990\n",
      "109       14.31  4.00    Yes   Sat  Dinner     2  0.279525\n",
      "183       23.17  6.50    Yes   Sun  Dinner     4  0.280535\n",
      "67         3.07  1.00    Yes   Sat  Dinner     1  0.325733\n",
      "178        9.60  4.00    Yes   Sun  Dinner     2  0.416667\n",
      "172        7.25  5.15    Yes   Sun  Dinner     2  0.710345 \n",
      "\n",
      "0     (0.156, 1.717]\n",
      "1    (-1.405, 0.156]\n",
      "2     (0.156, 1.717]\n",
      "3    (-1.405, 0.156]\n",
      "4    (-1.405, 0.156]\n",
      "5    (-1.405, 0.156]\n",
      "6    (-1.405, 0.156]\n",
      "7     (1.717, 3.278]\n",
      "8     (0.156, 1.717]\n",
      "9    (-1.405, 0.156]\n",
      "Name: data1, dtype: category\n",
      "Categories (4, interval[float64]): [(-2.972, -1.405] < (-1.405, 0.156] < (0.156, 1.717] < (1.717, 3.278]] \n",
      "\n",
      "                       min       max  count      mean\n",
      "data1                                                \n",
      "(-2.972, -1.405] -2.042813  2.728048   79.0 -0.088785\n",
      "(-1.405, 0.156]  -2.564755  3.035927  500.0  0.011075\n",
      "(0.156, 1.717]   -2.767290  3.440901  388.0  0.016810\n",
      "(1.717, 3.278]   -1.899615  1.684437   33.0  0.154644 \n",
      "\n"
     ]
    }
   ],
   "source": [
    "def top(df, n=5, column='tip_pct'):\n",
    "    return df.sort_values(by=column)[-n:]\n",
    "top(tips, n=6)\n",
    "tips.groupby('smoker').apply(top)\n",
    "tips.groupby(['smoker', 'day']).apply(top, n=1, column='total_bill')\n",
    "result = tips.groupby('smoker')['tip_pct'].describe()\n",
    "print(result.unstack('smoker'),'\\n')\n",
    "print(tips.groupby('smoker', group_keys=False).apply(top), '\\n')\n",
    "\n",
    "\n",
    "frame = pd.DataFrame({'data1': np.random.randn(1000),\n",
    "                       'data2': np.random.randn(1000)})\n",
    "quartiles = pd.cut(frame.data1, 4)\n",
    "print(quartiles[:10],'\\n')\n",
    "\n",
    "\n",
    "def get_stats(group):\n",
    "    return {'min': group.min(), 'max': group.max(),\n",
    "            'count': group.count(), 'mean': group.mean()}\n",
    "grouped = frame.data2.groupby(quartiles)\n",
    "print(grouped.apply(get_stats).unstack(), '\\n')"
   ]
  }
 ],
 "metadata": {
  "kernelspec": {
   "display_name": "Python 3",
   "language": "python",
   "name": "python3"
  },
  "language_info": {
   "codemirror_mode": {
    "name": "ipython",
    "version": 3
   },
   "file_extension": ".py",
   "mimetype": "text/x-python",
   "name": "python",
   "nbconvert_exporter": "python",
   "pygments_lexer": "ipython3",
   "version": "3.7.2"
  }
 },
 "nbformat": 4,
 "nbformat_minor": 2
}
