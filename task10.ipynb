{
 "cells": [
  {
   "cell_type": "code",
   "execution_count": 28,
   "metadata": {},
   "outputs": [
    {
     "name": "stdout",
     "output_type": "stream",
     "text": [
      "   0         1  2      3\n",
      "0  1  19970101  1  11.77\n",
      "1  2  19970112  1  12.00\n",
      "2  2  19970112  5  77.00\n",
      "3  3  19970102  2  20.76\n",
      "4  3  19970330  2  20.76 \n",
      "\n",
      "   ID     dates  num  counts\n",
      "0   1  19970101    1   11.77\n",
      "1   2  19970112    1   12.00\n",
      "2   2  19970112    5   77.00\n",
      "3   3  19970102    2   20.76\n",
      "4   3  19970330    2   20.76 \n",
      "\n"
     ]
    }
   ],
   "source": [
    "import numpy as np\n",
    "import pandas as pd\n",
    "import matplotlib.pyplot as plt\n",
    "#dat = pd.read_table('../CDNOW.txt',header=None,names=['ID','dates','num','counts'])\n",
    "dat = pd.read_table('../CDNOW.txt',sep='\\s+',header=None)\n",
    "print(dat.head(),'\\n')\n",
    "dat.columns = ['ID','dates','num','counts']\n",
    "print(dat.head(),'\\n')\n",
    "\n",
    "\n"
   ]
  },
  {
   "cell_type": "markdown",
   "metadata": {},
   "source": [
    "###### 太忙了，周末再补。。。"
   ]
  }
 ],
 "metadata": {
  "kernelspec": {
   "display_name": "Python 3",
   "language": "python",
   "name": "python3"
  },
  "language_info": {
   "codemirror_mode": {
    "name": "ipython",
    "version": 3
   },
   "file_extension": ".py",
   "mimetype": "text/x-python",
   "name": "python",
   "nbconvert_exporter": "python",
   "pygments_lexer": "ipython3",
   "version": "3.7.2"
  }
 },
 "nbformat": 4,
 "nbformat_minor": 2
}
